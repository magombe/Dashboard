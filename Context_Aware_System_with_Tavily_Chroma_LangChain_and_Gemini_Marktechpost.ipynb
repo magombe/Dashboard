{
  "cells": [
    {
      "cell_type": "markdown",
      "metadata": {
        "id": "view-in-github",
        "colab_type": "text"
      },
      "source": [
        "<a href=\"https://colab.research.google.com/github/magombe/Dashboard/blob/main/Context_Aware_System_with_Tavily_Chroma_LangChain_and_Gemini_Marktechpost.ipynb\" target=\"_parent\"><img src=\"https://colab.research.google.com/assets/colab-badge.svg\" alt=\"Open In Colab\"/></a>"
      ]
    },
    {
      "cell_type": "code",
      "source": [
        "!pip install -qU langchain-community tavily-python langchain-google-genai streamlit matplotlib pandas tiktoken chromadb langchain_core pydantic langchain"
      ],
      "metadata": {
        "id": "TAMkPBy41dD2"
      },
      "execution_count": null,
      "outputs": []
    },
    {
      "cell_type": "code",
      "source": [
        "import os\n",
        "import getpass\n",
        "import pandas as pd\n",
        "import matplotlib.pyplot as plt\n",
        "import numpy as np\n",
        "import json\n",
        "import time\n",
        "from typing import List, Dict, Any, Optional\n",
        "from datetime import datetime"
      ],
      "metadata": {
        "id": "vjAAoP9d1jxa"
      },
      "execution_count": null,
      "outputs": []
    },
    {
      "cell_type": "code",
      "source": [
        "if \"TAVILY_API_KEY\" not in os.environ:\n",
        "    os.environ[\"TAVILY_API_KEY\"] = getpass.getpass(\"Enter Tavily API key: \")\n",
        "\n",
        "if \"GOOGLE_API_KEY\" not in os.environ:\n",
        "    os.environ[\"GOOGLE_API_KEY\"] = getpass.getpass(\"Enter Google API key: \")\n",
        "\n",
        "import logging\n",
        "logging.basicConfig(level=logging.INFO, format='%(asctime)s - %(name)s - %(levelname)s - %(message)s')\n",
        "logger = logging.getLogger(__name__)"
      ],
      "metadata": {
        "id": "5MEISAY21kTL"
      },
      "execution_count": null,
      "outputs": []
    },
    {
      "cell_type": "code",
      "source": [
        "from langchain_community.retrievers import TavilySearchAPIRetriever\n",
        "from langchain_community.vectorstores import Chroma\n",
        "from langchain_core.documents import Document\n",
        "from langchain_core.output_parsers import StrOutputParser, JsonOutputParser\n",
        "from langchain_core.prompts import ChatPromptTemplate, SystemMessagePromptTemplate, HumanMessagePromptTemplate\n",
        "from langchain_core.runnables import RunnablePassthrough, RunnableLambda\n",
        "from langchain_google_genai import ChatGoogleGenerativeAI, GoogleGenerativeAIEmbeddings\n",
        "from langchain.text_splitter import RecursiveCharacterTextSplitter\n",
        "from langchain.chains.summarize import load_summarize_chain\n",
        "from langchain.memory import ConversationBufferMemory"
      ],
      "metadata": {
        "id": "G6eGYPYi1mja"
      },
      "execution_count": null,
      "outputs": []
    },
    {
      "cell_type": "code",
      "source": [
        "class SearchQueryError(Exception):\n",
        "    \"\"\"Exception raised for errors in the search query.\"\"\"\n",
        "    pass\n",
        "\n",
        "def format_docs(docs):\n",
        "    formatted_content = []\n",
        "    for i, doc in enumerate(docs):\n",
        "        metadata = doc.metadata\n",
        "        source = metadata.get('source', 'Unknown source')\n",
        "        title = metadata.get('title', 'Untitled')\n",
        "        score = metadata.get('score', 0)\n",
        "\n",
        "        formatted_content.append(\n",
        "            f\"Document {i+1} [Score: {score:.2f}]:\\n\"\n",
        "            f\"Title: {title}\\n\"\n",
        "            f\"Source: {source}\\n\"\n",
        "            f\"Content: {doc.page_content}\\n\"\n",
        "        )\n",
        "\n",
        "    return \"\\n\\n\".join(formatted_content)"
      ],
      "metadata": {
        "id": "1Do9yLFi1n98"
      },
      "execution_count": null,
      "outputs": []
    },
    {
      "cell_type": "code",
      "source": [
        "class SearchResultsParser:\n",
        "    def parse(self, text):\n",
        "        try:\n",
        "            if isinstance(text, str):\n",
        "                import re\n",
        "                import json\n",
        "                json_match = re.search(r'\\{.*\\}', text, re.DOTALL)\n",
        "                if json_match:\n",
        "                    json_str = json_match.group(0)\n",
        "                    return json.loads(json_str)\n",
        "                return {\"answer\": text, \"sources\": [], \"confidence\": 0.5}\n",
        "            elif hasattr(text, 'content'):\n",
        "                return {\"answer\": text.content, \"sources\": [], \"confidence\": 0.5}\n",
        "            else:\n",
        "                return {\"answer\": str(text), \"sources\": [], \"confidence\": 0.5}\n",
        "        except Exception as e:\n",
        "            logger.warning(f\"Failed to parse JSON: {e}\")\n",
        "            return {\"answer\": str(text), \"sources\": [], \"confidence\": 0.5}"
      ],
      "metadata": {
        "id": "QepMdQPV1tiL"
      },
      "execution_count": null,
      "outputs": []
    },
    {
      "cell_type": "code",
      "source": [
        "class EnhancedTavilyRetriever:\n",
        "    def __init__(self, api_key=None, max_results=5, search_depth=\"advanced\", include_domains=None, exclude_domains=None):\n",
        "        self.api_key = api_key\n",
        "        self.max_results = max_results\n",
        "        self.search_depth = search_depth\n",
        "        self.include_domains = include_domains or []\n",
        "        self.exclude_domains = exclude_domains or []\n",
        "        self.retriever = self._create_retriever()\n",
        "        self.previous_searches = []\n",
        "\n",
        "    def _create_retriever(self):\n",
        "        try:\n",
        "            return TavilySearchAPIRetriever(\n",
        "                api_key=self.api_key,\n",
        "                k=self.max_results,\n",
        "                search_depth=self.search_depth,\n",
        "                include_domains=self.include_domains,\n",
        "                exclude_domains=self.exclude_domains\n",
        "            )\n",
        "        except Exception as e:\n",
        "            logger.error(f\"Failed to create Tavily retriever: {e}\")\n",
        "            raise\n",
        "\n",
        "    def invoke(self, query, **kwargs):\n",
        "        if not query or not query.strip():\n",
        "            raise SearchQueryError(\"Empty search query\")\n",
        "\n",
        "        try:\n",
        "            start_time = time.time()\n",
        "            results = self.retriever.invoke(query, **kwargs)\n",
        "            end_time = time.time()\n",
        "\n",
        "            search_record = {\n",
        "                \"timestamp\": datetime.now().isoformat(),\n",
        "                \"query\": query,\n",
        "                \"num_results\": len(results),\n",
        "                \"response_time\": end_time - start_time\n",
        "            }\n",
        "            self.previous_searches.append(search_record)\n",
        "\n",
        "            return results\n",
        "        except Exception as e:\n",
        "            logger.error(f\"Search failed: {e}\")\n",
        "            raise SearchQueryError(f\"Failed to perform search: {str(e)}\")\n",
        "\n",
        "    def get_search_history(self):\n",
        "        return self.previous_searches"
      ],
      "metadata": {
        "id": "9Vd2i5Nr10My"
      },
      "execution_count": null,
      "outputs": []
    },
    {
      "cell_type": "code",
      "source": [
        "class SearchCache:\n",
        "    def __init__(self):\n",
        "        self.embedding_function = GoogleGenerativeAIEmbeddings(model=\"models/embedding-001\")\n",
        "        self.vector_store = None\n",
        "        self.text_splitter = RecursiveCharacterTextSplitter(chunk_size=1000, chunk_overlap=200)\n",
        "\n",
        "    def add_documents(self, documents):\n",
        "        if not documents:\n",
        "            return\n",
        "\n",
        "        try:\n",
        "            if self.vector_store is None:\n",
        "                self.vector_store = Chroma.from_documents(\n",
        "                    documents=documents,\n",
        "                    embedding=self.embedding_function\n",
        "                )\n",
        "            else:\n",
        "                self.vector_store.add_documents(documents)\n",
        "        except Exception as e:\n",
        "            logger.error(f\"Failed to add documents to cache: {e}\")\n",
        "\n",
        "    def search(self, query, k=3):\n",
        "        if self.vector_store is None:\n",
        "            return []\n",
        "\n",
        "        try:\n",
        "            return self.vector_store.similarity_search(query, k=k)\n",
        "        except Exception as e:\n",
        "            logger.error(f\"Vector search failed: {e}\")\n",
        "            return []"
      ],
      "metadata": {
        "id": "WzdM2_ae13oS"
      },
      "execution_count": null,
      "outputs": []
    },
    {
      "cell_type": "code",
      "source": [
        "search_cache = SearchCache()\n",
        "enhanced_retriever = EnhancedTavilyRetriever(max_results=5)\n",
        "memory = ConversationBufferMemory(memory_key=\"chat_history\", return_messages=True)\n",
        "\n",
        "system_template = \"\"\"You are a research assistant that provides accurate answers based on the search results provided.\n",
        "Follow these guidelines:\n",
        "1. Only use the context provided to answer the question\n",
        "2. If the context doesn't contain the answer, say \"I don't have sufficient information to answer this question.\"\n",
        "3. Cite your sources by referencing the document numbers\n",
        "4. Don't make up information\n",
        "5. Keep the answer concise but complete\n",
        "\n",
        "Context: {context}\n",
        "Chat History: {chat_history}\n",
        "\"\"\"\n",
        "\n",
        "system_message = SystemMessagePromptTemplate.from_template(system_template)\n",
        "human_template = \"Question: {question}\"\n",
        "human_message = HumanMessagePromptTemplate.from_template(human_template)\n",
        "\n",
        "prompt = ChatPromptTemplate.from_messages([system_message, human_message])"
      ],
      "metadata": {
        "id": "wFoanCDl1-AJ"
      },
      "execution_count": null,
      "outputs": []
    },
    {
      "cell_type": "code",
      "source": [
        "def get_llm(model_name=\"gemini-2.0-flash-lite\", temperature=0.2, response_mode=\"json\"):\n",
        "    try:\n",
        "        return ChatGoogleGenerativeAI(\n",
        "            model=model_name,\n",
        "            temperature=temperature,\n",
        "            convert_system_message_to_human=True,\n",
        "            top_p=0.95,\n",
        "            top_k=40,\n",
        "            max_output_tokens=2048\n",
        "        )\n",
        "    except Exception as e:\n",
        "        logger.error(f\"Failed to initialize LLM: {e}\")\n",
        "        raise\n",
        "\n",
        "output_parser = SearchResultsParser()"
      ],
      "metadata": {
        "id": "icZiRpim2BJZ"
      },
      "execution_count": null,
      "outputs": []
    },
    {
      "cell_type": "code",
      "source": [
        "def plot_search_metrics(search_history):\n",
        "    if not search_history:\n",
        "        print(\"No search history available\")\n",
        "        return\n",
        "\n",
        "    df = pd.DataFrame(search_history)\n",
        "\n",
        "    plt.figure(figsize=(12, 6))\n",
        "    plt.subplot(1, 2, 1)\n",
        "    plt.plot(range(len(df)), df['response_time'], marker='o')\n",
        "    plt.title('Search Response Times')\n",
        "    plt.xlabel('Search Index')\n",
        "    plt.ylabel('Time (seconds)')\n",
        "    plt.grid(True)\n",
        "\n",
        "    plt.subplot(1, 2, 2)\n",
        "    plt.bar(range(len(df)), df['num_results'])\n",
        "    plt.title('Number of Results per Search')\n",
        "    plt.xlabel('Search Index')\n",
        "    plt.ylabel('Number of Results')\n",
        "    plt.grid(True)\n",
        "\n",
        "    plt.tight_layout()\n",
        "    plt.show()"
      ],
      "metadata": {
        "id": "FoOt5V1I2DoZ"
      },
      "execution_count": null,
      "outputs": []
    },
    {
      "cell_type": "code",
      "source": [
        "def retrieve_with_fallback(query):\n",
        "    cached_results = search_cache.search(query)\n",
        "\n",
        "    if cached_results:\n",
        "        logger.info(f\"Retrieved {len(cached_results)} documents from cache\")\n",
        "        return cached_results\n",
        "\n",
        "    logger.info(\"No cache hit, performing web search\")\n",
        "    search_results = enhanced_retriever.invoke(query)\n",
        "\n",
        "    search_cache.add_documents(search_results)\n",
        "\n",
        "    return search_results\n",
        "\n",
        "def summarize_documents(documents, query):\n",
        "    llm = get_llm(temperature=0)\n",
        "\n",
        "    summarize_prompt = ChatPromptTemplate.from_template(\n",
        "        \"\"\"Create a concise summary of the following documents related to this query: {query}\n",
        "\n",
        "        {documents}\n",
        "\n",
        "        Provide a comprehensive summary that addresses the key points relevant to the query.\n",
        "        \"\"\"\n",
        "    )\n",
        "\n",
        "    chain = (\n",
        "        {\"documents\": lambda docs: format_docs(docs), \"query\": lambda _: query}\n",
        "        | summarize_prompt\n",
        "        | llm\n",
        "        | StrOutputParser()\n",
        "    )\n",
        "\n",
        "    return chain.invoke(documents)"
      ],
      "metadata": {
        "id": "j7nuQwkr2JGQ"
      },
      "execution_count": null,
      "outputs": []
    },
    {
      "cell_type": "code",
      "source": [
        "def advanced_chain(query_engine=\"enhanced\", model=\"gemini-1.5-pro\", include_history=True):\n",
        "    llm = get_llm(model_name=model)\n",
        "\n",
        "    if query_engine == \"enhanced\":\n",
        "        retriever = lambda query: retrieve_with_fallback(query)\n",
        "    else:\n",
        "        retriever = enhanced_retriever.invoke\n",
        "\n",
        "    def chain_with_history(input_dict):\n",
        "        query = input_dict[\"question\"]\n",
        "        chat_history = memory.load_memory_variables({})[\"chat_history\"] if include_history else []\n",
        "\n",
        "        docs = retriever(query)\n",
        "\n",
        "        context = format_docs(docs)\n",
        "\n",
        "        result = prompt.invoke({\n",
        "            \"context\": context,\n",
        "            \"question\": query,\n",
        "            \"chat_history\": chat_history\n",
        "        })\n",
        "\n",
        "        memory.save_context({\"input\": query}, {\"output\": result.content})\n",
        "\n",
        "        return llm.invoke(result)\n",
        "\n",
        "    return RunnableLambda(chain_with_history) | StrOutputParser()"
      ],
      "metadata": {
        "id": "ewb1Y3Uv2Ne5"
      },
      "execution_count": null,
      "outputs": []
    },
    {
      "cell_type": "code",
      "source": [
        "qa_chain = advanced_chain()\n",
        "\n",
        "def analyze_query(query):\n",
        "    llm = get_llm(temperature=0)\n",
        "\n",
        "    analysis_prompt = ChatPromptTemplate.from_template(\n",
        "        \"\"\"Analyze the following query and provide:\n",
        "        1. Main topic\n",
        "        2. Sentiment (positive, negative, neutral)\n",
        "        3. Key entities mentioned\n",
        "        4. Query type (factual, opinion, how-to, etc.)\n",
        "\n",
        "        Query: {query}\n",
        "\n",
        "        Return the analysis in JSON format with the following structure:\n",
        "        {{\n",
        "            \"topic\": \"main topic\",\n",
        "            \"sentiment\": \"sentiment\",\n",
        "            \"entities\": [\"entity1\", \"entity2\"],\n",
        "            \"type\": \"query type\"\n",
        "        }}\n",
        "        \"\"\"\n",
        "    )\n",
        "\n",
        "    chain = analysis_prompt | llm | output_parser\n",
        "\n",
        "    return chain.invoke({\"query\": query})\n",
        "\n",
        "print(\"Advanced Tavily-Gemini Implementation\")\n",
        "print(\"=\"*50)\n",
        "\n",
        "query = \"what year was breath of the wild released and what was its reception?\"\n",
        "print(f\"Query: {query}\")"
      ],
      "metadata": {
        "colab": {
          "base_uri": "https://localhost:8080/"
        },
        "id": "B-fAV_Vm2RoR",
        "outputId": "3199d57c-8030-4eea-95bd-7ca4a69a45c7"
      },
      "execution_count": null,
      "outputs": [
        {
          "output_type": "stream",
          "name": "stdout",
          "text": [
            "Advanced Tavily-Gemini Implementation\n",
            "==================================================\n",
            "Query: what year was breath of the wild released and what was its reception?\n"
          ]
        }
      ]
    },
    {
      "cell_type": "code",
      "source": [
        "try:\n",
        "    print(\"\\nSearching for answer...\")\n",
        "    answer = qa_chain.invoke({\"question\": query})\n",
        "    print(\"\\nAnswer:\")\n",
        "    print(answer)\n",
        "\n",
        "    print(\"\\nAnalyzing query...\")\n",
        "    try:\n",
        "        query_analysis = analyze_query(query)\n",
        "        print(\"\\nQuery Analysis:\")\n",
        "        print(json.dumps(query_analysis, indent=2))\n",
        "    except Exception as e:\n",
        "        print(f\"Query analysis error (non-critical): {e}\")\n",
        "except Exception as e:\n",
        "    print(f\"Error in search: {e}\")\n",
        "\n",
        "history = enhanced_retriever.get_search_history()\n",
        "print(\"\\nSearch History:\")\n",
        "for i, h in enumerate(history):\n",
        "    print(f\"{i+1}. Query: {h['query']} - Results: {h['num_results']} - Time: {h['response_time']:.2f}s\")\n",
        "\n",
        "print(\"\\nAdvanced search with domain filtering:\")\n",
        "specialized_retriever = EnhancedTavilyRetriever(\n",
        "    max_results=3,\n",
        "    search_depth=\"advanced\",\n",
        "    include_domains=[\"nintendo.com\", \"zelda.com\"],\n",
        "    exclude_domains=[\"reddit.com\", \"twitter.com\"]\n",
        ")\n",
        "\n",
        "try:\n",
        "    specialized_results = specialized_retriever.invoke(\"breath of the wild sales\")\n",
        "    print(f\"Found {len(specialized_results)} specialized results\")\n",
        "\n",
        "    summary = summarize_documents(specialized_results, \"breath of the wild sales\")\n",
        "    print(\"\\nSummary of specialized results:\")\n",
        "    print(summary)\n",
        "except Exception as e:\n",
        "    print(f\"Error in specialized search: {e}\")\n",
        "\n",
        "print(\"\\nSearch Metrics:\")\n",
        "plot_search_metrics(history)"
      ],
      "metadata": {
        "colab": {
          "base_uri": "https://localhost:8080/",
          "height": 1000
        },
        "id": "w1eAfnj30P7-",
        "outputId": "b73c98ef-b548-4eaf-e634-bde52802d362"
      },
      "execution_count": null,
      "outputs": [
        {
          "output_type": "stream",
          "name": "stdout",
          "text": [
            "Advanced Tavily-Gemini Implementation\n",
            "==================================================\n",
            "Query: what year was breath of the wild released and what was its reception?\n",
            "\n",
            "Searching for answer...\n"
          ]
        },
        {
          "output_type": "stream",
          "name": "stderr",
          "text": [
            "ERROR:__main__:Failed to add documents to cache: Expected metadata value to be a str, int, float, bool, or None, got [] which is a list in upsert.\n",
            "\n",
            "Try filtering complex metadata from the document using langchain_community.vectorstores.utils.filter_complex_metadata.\n"
          ]
        },
        {
          "output_type": "stream",
          "name": "stdout",
          "text": [
            "Error in search: 'ChatPromptValue' object has no attribute 'content'\n",
            "\n",
            "Search History:\n",
            "1. Query: what year was breath of the wild released and what was its reception? - Results: 5 - Time: 1.55s\n",
            "\n",
            "Advanced search with domain filtering:\n",
            "Found 3 specialized results\n"
          ]
        },
        {
          "output_type": "stream",
          "name": "stderr",
          "text": [
            "/usr/local/lib/python3.11/dist-packages/langchain_google_genai/chat_models.py:390: UserWarning: Convert_system_message_to_human will be deprecated!\n",
            "  warnings.warn(\"Convert_system_message_to_human will be deprecated!\")\n"
          ]
        },
        {
          "output_type": "stream",
          "name": "stdout",
          "text": [
            "\n",
            "Summary of specialized results:\n",
            "The documents primarily focus on \"The Legend of Zelda\" games, specifically mentioning \"Breath of the Wild\" and its sequel, \"Tears of the Kingdom.\"  \"Breath of the Wild\" is available for purchase on the Nintendo Switch, as indicated by the Nintendo store links. \"Tears of the Kingdom\" is a direct sequel to \"Breath of the Wild\" and sold over 10 million copies worldwide in its first three days. The documents also mention related accessories for \"Tears of the Kingdom.\"\n",
            "\n",
            "Search Metrics:\n"
          ]
        },
        {
          "output_type": "display_data",
          "data": {
            "text/plain": [
              "<Figure size 1200x600 with 2 Axes>"
            ],
            "image/png": "[encoded data removed]"
          },
          "metadata": {}
        }
      ]
    }
  ],
  "metadata": {
    "kernelspec": {
      "display_name": "Python 3 (ipykernel)",
      "language": "python",
      "name": "python3"
    },
    "language_info": {
      "codemirror_mode": {
        "name": "ipython",
        "version": 3
      },
      "file_extension": ".py",
      "mimetype": "text/x-python",
      "name": "python",
      "nbconvert_exporter": "python",
      "pygments_lexer": "ipython3",
      "version": "3.10.4"
    },
    "colab": {
      "provenance": [],
      "include_colab_link": true
    }
  },
  "nbformat": 4,
  "nbformat_minor": 0
}